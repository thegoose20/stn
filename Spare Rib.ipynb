{
 "cells": [
  {
   "cell_type": "markdown",
   "metadata": {},
   "source": [
    "# Spare Rib Network Analysis\n",
    "#### Social and Technological Networks Project - Fall 2018\n",
    "#### By Lucy Havens"
   ]
  },
  {
   "cell_type": "code",
   "execution_count": 2,
   "metadata": {},
   "outputs": [],
   "source": [
    "import numpy as np\n",
    "import pandas as pd\n",
    "import nltk\n",
    "import re\n",
    "import os\n",
    "import codecs\n",
    "from sklearn import feature_extraction\n",
    "import mpld3"
   ]
  },
  {
   "cell_type": "markdown",
   "metadata": {},
   "source": [
    "**Import text file of Spare Rib Reader splitting by words:**"
   ]
  },
  {
   "cell_type": "code",
   "execution_count": 63,
   "metadata": {},
   "outputs": [
    {
     "name": "stdout",
     "output_type": "stream",
     "text": [
      "['Penguin', 'Books', 'Spare', 'Rib', 'Reader', \"'Spare\", 'Rib', 'set', 'out,', 'ten', 'years', 'ago', 'now,', 'to', 'be', 'the', 'magazine', 'that', '\"put', \"women's\", 'liberation', 'on', 'the', 'news', 'stands\".', 'An', 'early', 'proposal', 'declared:', '\"There', 'is', 'the', 'most', 'urgent', 'need', 'for', 'a', 'magazine', 'that', 'will', 'reach', 'ALL', 'women', '-', 'that', 'is,', 'women', 'who', 'are', 'frustrated', 'by', 'the', 'limitations', 'of', 'existing', 'magazines.', 'Commercial', 'journalese', 'gives', 'unrealistic', 'solutions', 'to', 'problems,', 'thus', 'increasing', 'loneliness', 'and', 'isolation.\"', \"'It\", 'was', 'to', 'be', 'a', 'forty-eight', 'page', 'news', 'magazine', 'published', 'monthly', 'at', 'fifteen', 'pence.', 'Great', 'emphasis', 'was', 'placed', 'on', 'regular,', '\"professional\"', 'production:', 'this', 'was', 'partly', 'in', 'reaction', 'to', 'the', 'unreliability', 'of', 'alternative']\n"
     ]
    }
   ],
   "source": [
    "words = open('Spare_Rib_Reader_pg_1_to_80.txt').read().split()\n",
    "# Skip the first line\n",
    "# (contains information about the scanning of the Reader)\n",
    "words = words[62:]\n",
    "words_sample = words[:100]\n",
    "print(words_sample)"
   ]
  },
  {
   "cell_type": "markdown",
   "metadata": {},
   "source": [
    "**Import text file of Spare Rib Reader splitting by lines:**"
   ]
  },
  {
   "cell_type": "code",
   "execution_count": 54,
   "metadata": {},
   "outputs": [
    {
     "name": "stdout",
     "output_type": "stream",
     "text": [
      "['Penguin Books', 'Spare Rib Reader', '', '\\'Spare Rib set out, ten years ago now, to be the magazine that \"put women\\'s liberation on the news stands\". An early proposal declared: \"There is the most urgent need for a magazine that will reach ALL women - that is, women who are frustrated by the limitations of existing magazines. Commercial journalese gives unrealistic solutions to problems, thus increasing loneliness and isolation.\"', '\\'It was to be a forty-eight page news magazine published monthly at fifteen pence. Great emphasis was placed on regular, \"professional\" production: this was partly in reaction to the unreliability of alternative publications and partly to prove women\\'s capability and efficiency. In July 1972, the first issue went on the news stands - and sold out. In those early days two editors and six women with specific job designations steered the magazine on an exciting and sometimes contradictory course. The magazine ran regular columns on Law, Sex, Health, Work, and the Arts, had a do-it-yourself page called \"Spare Parts\", offered wholesome recipes, the occasional knitting pattern, and a men\\'s page.']\n"
     ]
    }
   ],
   "source": [
    "lines = open('Spare_Rib_Reader_pg_1_to_80.txt').read().split('\\n')\n",
    "# Skip the first line\n",
    "# (contains information about the scanning of the Reader)\n",
    "lines = lines[34:]\n",
    "lines_sample = lines[:5]\n",
    "print(lines_sample)"
   ]
  },
  {
   "cell_type": "markdown",
   "metadata": {},
   "source": [
    "**Remove white space and empty strings from lines of Spare Rib Reader:**"
   ]
  },
  {
   "cell_type": "code",
   "execution_count": 61,
   "metadata": {},
   "outputs": [
    {
     "name": "stdout",
     "output_type": "stream",
     "text": [
      "Line count:  636\n",
      "Line count:  548\n"
     ]
    }
   ],
   "source": [
    "import re\n",
    "print(\"Line count: \", len(lines))\n",
    "for line in lines:\n",
    "    if re.match(r'^\\s*$', line):   # regex from http://codepad.org/YRZBjjpB\n",
    "        lines.remove(line)\n",
    "print(\"Line count: \", len(lines))"
   ]
  },
  {
   "cell_type": "code",
   "execution_count": 62,
   "metadata": {},
   "outputs": [
    {
     "name": "stdout",
     "output_type": "stream",
     "text": [
      "['Penguin Books', 'Spare Rib Reader', '\\'Spare Rib set out, ten years ago now, to be the magazine that \"put women\\'s liberation on the news stands\". An early proposal declared: \"There is the most urgent need for a magazine that will reach ALL women - that is, women who are frustrated by the limitations of existing magazines. Commercial journalese gives unrealistic solutions to problems, thus increasing loneliness and isolation.\"', '\\'It was to be a forty-eight page news magazine published monthly at fifteen pence. Great emphasis was placed on regular, \"professional\" production: this was partly in reaction to the unreliability of alternative publications and partly to prove women\\'s capability and efficiency. In July 1972, the first issue went on the news stands - and sold out. In those early days two editors and six women with specific job designations steered the magazine on an exciting and sometimes contradictory course. The magazine ran regular columns on Law, Sex, Health, Work, and the Arts, had a do-it-yourself page called \"Spare Parts\", offered wholesome recipes, the occasional knitting pattern, and a men\\'s page.', '\\'Over the next few years many changes took place. The masthead of Spare Rib 18 announced that the magazine was to become a collective - all jobs and skills would be shared; \\'\\'big names\" disappeared (along with contributors\\' payments ) in favour of encouraging many more \"ordinary\" women to describe their lives in words, illustrations or photos - although people like Jane Fonda continued to provide hard-sell cover material.']\n"
     ]
    }
   ],
   "source": [
    "print(lines[:5])"
   ]
  },
  {
   "cell_type": "markdown",
   "metadata": {},
   "source": [
    "**Load stop words (for example: a, the, in) from NLTK:**"
   ]
  },
  {
   "cell_type": "code",
   "execution_count": null,
   "metadata": {},
   "outputs": [],
   "source": [
    "nltk.download()\n",
    "from nltk.corpus import stopwords\n",
    "from nltk.tokenize import word_tokenize\n",
    "stops = set(stopwords.words('english'))\n",
    "\n",
    "print(stops)  \n",
    "# why do they appear in command line/in python shell but not here???"
   ]
  },
  {
   "cell_type": "code",
   "execution_count": null,
   "metadata": {
    "collapsed": true
   },
   "outputs": [],
   "source": []
  },
  {
   "cell_type": "code",
   "execution_count": null,
   "metadata": {
    "collapsed": true
   },
   "outputs": [],
   "source": []
  }
 ],
 "metadata": {
  "kernelspec": {
   "display_name": "Python 3",
   "language": "python",
   "name": "python3"
  },
  "language_info": {
   "codemirror_mode": {
    "name": "ipython",
    "version": 3
   },
   "file_extension": ".py",
   "mimetype": "text/x-python",
   "name": "python",
   "nbconvert_exporter": "python",
   "pygments_lexer": "ipython3",
   "version": "3.6.2"
  }
 },
 "nbformat": 4,
 "nbformat_minor": 2
}
